{
 "cells": [
  {
   "cell_type": "markdown",
   "id": "861de01e-938f-4bcc-9aef-66ac5c509740",
   "metadata": {},
   "source": [
    "# Data Science Tools and Ecosystem"
   ]
  },
  {
   "cell_type": "markdown",
   "id": "592cd7d8-19f3-4d42-9559-b581f6f5443b",
   "metadata": {},
   "source": [
    "### In this notebook, Data Science Tools and Ecosystem are summarized."
   ]
  },
  {
   "cell_type": "markdown",
   "id": "778f3685-00d6-4d93-abc1-976b38c52897",
   "metadata": {},
   "source": [
    "### Some of the popular languages that Data Scientists use are:"
   ]
  },
  {
   "cell_type": "markdown",
   "id": "fa78d5e8-85e2-4885-b4ce-605473b45263",
   "metadata": {},
   "source": [
    "1. Python \n",
    "2. JSON \n",
    "3. Hadoop "
   ]
  },
  {
   "cell_type": "markdown",
   "id": "088c838c-c2b4-451b-ae29-b48cd57e3da8",
   "metadata": {},
   "source": [
    "### Some of the commonly used libraries used by Data Scientists include:"
   ]
  },
  {
   "cell_type": "markdown",
   "id": "89bb8e9b-6ea2-4cc3-a68b-1e6b48b57ca3",
   "metadata": {},
   "source": [
    "1. NumPy\n",
    "2. Pandas\n",
    "3. TensorFlow"
   ]
  },
  {
   "cell_type": "markdown",
   "id": "d0571f86-f879-4212-9ba7-e6ad0be98121",
   "metadata": {},
   "source": [
    "|Data Science Tools|\n",
    "|------------------|\n",
    "|Jupyter Notebbok|\n",
    "|RStudio|\n",
    "|Jupyter Lab|"
   ]
  },
  {
   "cell_type": "markdown",
   "id": "b71a2c7e-c64b-435d-ba17-6e5eec467e4d",
   "metadata": {},
   "source": [
    "### Below are a few examples of evaluating arithmetic expressions in Python"
   ]
  },
  {
   "cell_type": "code",
   "execution_count": 3,
   "id": "264e9da8-9a38-44a1-8e9e-298d1dfcb174",
   "metadata": {},
   "outputs": [
    {
     "data": {
      "text/plain": [
       "17"
      ]
     },
     "execution_count": 3,
     "metadata": {},
     "output_type": "execute_result"
    }
   ],
   "source": [
    "#This a simple arithmetic expression to mutiply then add integers\n",
    "(3*4)+5"
   ]
  },
  {
   "cell_type": "code",
   "execution_count": 6,
   "id": "ad0fac39-a018-4003-9d2f-94f415adda11",
   "metadata": {},
   "outputs": [
    {
     "name": "stdout",
     "output_type": "stream",
     "text": [
      "3\n"
     ]
    }
   ],
   "source": [
    "#This will convert 200 minutes to hours by diving by 60\n",
    "minutes=200\n",
    "hours=minutes/60\n",
    "print(hours)"
   ]
  },
  {
   "cell_type": "markdown",
   "id": "3db3f33b-d966-4d0e-be1d-635319038a4d",
   "metadata": {},
   "source": [
    "<b>Objectives:</b>"
   ]
  },
  {
   "cell_type": "markdown",
   "id": "6de40083-b757-45b5-a7df-226f411b9d20",
   "metadata": {},
   "source": [
    "* Python\n",
    "* R\n",
    "* JSON\n",
    "* Java Script\n",
    "* Kotlin\n",
    "* Java"
   ]
  },
  {
   "cell_type": "markdown",
   "id": "97074fdf-2523-496e-95d1-6b426c2e41c8",
   "metadata": {},
   "source": [
    "## Author\n",
    "Taru"
   ]
  },
  {
   "cell_type": "code",
   "execution_count": null,
   "id": "0d4f4bc1-c0df-4ebf-b531-59b42d75d916",
   "metadata": {},
   "outputs": [],
   "source": []
  }
 ],
 "metadata": {
  "kernelspec": {
   "display_name": "Python 3 (ipykernel)",
   "language": "python",
   "name": "python3"
  },
  "language_info": {
   "codemirror_mode": {
    "name": "ipython",
    "version": 3
   },
   "file_extension": ".py",
   "mimetype": "text/x-python",
   "name": "python",
   "nbconvert_exporter": "python",
   "pygments_lexer": "ipython3",
   "version": "3.12.8"
  }
 },
 "nbformat": 4,
 "nbformat_minor": 5
}
